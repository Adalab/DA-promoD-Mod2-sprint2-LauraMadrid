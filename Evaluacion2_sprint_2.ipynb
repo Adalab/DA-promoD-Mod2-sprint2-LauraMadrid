{
 "cells": [
  {
   "attachments": {},
   "cell_type": "markdown",
   "metadata": {},
   "source": [
    "\n",
    "## **Evaluación II** ##\n",
    "\n",
    "### *Evaluación de contenidos 2 Módulo 2* ###"
   ]
  },
  {
   "cell_type": "code",
   "execution_count": 36,
   "metadata": {},
   "outputs": [],
   "source": [
    "import pandas as pd\n",
    "import numpy as np\n",
    "import requests\n",
    "from datetime import datetime, timedelta\n",
    "import mysql.connector\n",
    "\n",
    "from IPython.core.interactiveshell import InteractiveShell \n",
    "InteractiveShell.ast_node_interactivity = \"all\" \n",
    "from geopy.geocoders import Nominatim"
   ]
  },
  {
   "attachments": {},
   "cell_type": "markdown",
   "metadata": {},
   "source": [
    "\n",
    "Como en evaluaciones anteriores dispondréis de 2 tardes (aproximadamente 8 horas para la resolución de todos los ejercicios propuestos).\n",
    "Estos ejercicios se tendrán que defender en el día de la evaluación de forma individual con vuestra tutora docente en una simulación de entrevista técnica donde tendréis de 20 minutos para resolver o explicar los ejercicios propuestos entregados.\n",
    "\n",
    "En esta evaluación nos enfrentamos a un desafío emocionante de trabajar en un proyecto real para una empresa que realiza un estudio de universidades por el mundo. El proyecto tiene como objetivo identificar todas las universidades ubicadas en tres países específicos: Estados Unidos, Canadá y Argentina.\n",
    "\n",
    "Para llevar a cabo esta tarea, utilizaremos la API de \"Universities Hipolabs\", una fuente confiable y completa de información sobre las universidades en todo el mundo. Con la ayuda de esta API, podemos acceder a una gran cantidad de datos relevantes, incluyendo el nombre de la universidad, la ciudad donde esta ubicada, el nombre de la institución y otra información importante que nos permitirá llevar a cabo un análisis detallado.\n",
    "\n",
    "Es importante tener en cuenta que este proyecto requerirá un conocimiento profundo de herramientas y técnicas de análisis de datos, así como habilidades en programación y manejo de APIs. También es importante tener una comprensión sólida de la estructura y organización de los datos, ya que esto nos permitirá hacer preguntas importantes y obtener respuestas significativas a partir de los datos.\n",
    "\n",
    "En resumen, esta prueba técnica ofrece una excelente oportunidad para demostrar habilidades y conocimientos en análisis de datos y programación, mientras se trabaja en un proyecto real y relevante para una empresa. Al finalizar del proyecto, esperamos obtener información valiosa que ayudará a la empresa a tomar decisiones más informadas sobre las universidades en los tres países objetivo."
   ]
  },
  {
   "attachments": {},
   "cell_type": "markdown",
   "metadata": {},
   "source": [
    "1. Utilizando la API extraed toda la información que podáis de ella. La url para hacer las llamadas es:\n"
   ]
  },
  {
   "attachments": {},
   "cell_type": "markdown",
   "metadata": {},
   "source": [
    "2. Una vez tengáis todos los datos de la API, deberéis realizar una serie de procesos de limpieza, estos incluyen:\n",
    "Cambiad los nombres de las columnas para homogeneizarlas, tenemos columnas que tienen - y otras _. Unifícalo para que todo vaya con _.\n",
    "La columna de domains nos da una información similar a la de web_pages. Eliminad la columna domains.\n",
    "\n"
   ]
  },
  {
   "attachments": {},
   "cell_type": "markdown",
   "metadata": {},
   "source": [
    "\n",
    "3. Si exploramos la columna de web_pages, nos daremos cuenta que hay universidades, como por ejemplo la Universidad de \"Cégep de Saint-Jérôme\" de Canadá que en su columna de web_pages tiene más de un valor dentro de la lista. Esto es poco práctico y puede llegar a no tener sentido. el objetivo de este ejericio es que usando el método explode de pandas separéis cada elemento de la lista en una fila nueva.  tenéis la documentación de este método."
   ]
  },
  {
   "attachments": {},
   "cell_type": "markdown",
   "metadata": {},
   "source": [
    "4. Una vez hayáis realizado el explode, chequead si tenéis duplicados basándonos unicamente en el nombre de la universidad, en caso de que si, eliminandlos.\n",
    "   \n"
   ]
  },
  {
   "attachments": {},
   "cell_type": "markdown",
   "metadata": {},
   "source": [
    "   \n",
    "5. Si exploramos la columna de state_province veremos que hay universidades cuyo valor para esta columna es None. Cread una función para reemplazar los None por nulos de numpy.\n",
    "   \n"
   ]
  },
  {
   "attachments": {},
   "cell_type": "markdown",
   "metadata": {},
   "source": [
    "6. Después del último cambio, os habréis dado cuenta que tenemos muchos valores nulos dentro de la columna de state_province, por lo que nuestro jefe nos pide que reemplacemos esos nulos por \"Unknow\". No nos piden ningún método especifico, asi que podremos usar el método que queramos.\n",
    "   \n"
   ]
  },
  {
   "attachments": {},
   "cell_type": "markdown",
   "metadata": {},
   "source": [
    "### Definimos la lista de variables ###"
   ]
  },
  {
   "cell_type": "code",
   "execution_count": 37,
   "metadata": {},
   "outputs": [],
   "source": [
    "country_list = [\"Argentina\", \"Canada\", \"United States\"]"
   ]
  },
  {
   "attachments": {},
   "cell_type": "markdown",
   "metadata": {},
   "source": [
    "### Creamos la función de llamada ###"
   ]
  },
  {
   "cell_type": "code",
   "execution_count": 38,
   "metadata": {},
   "outputs": [],
   "source": [
    "\n",
    "def API_call(country_list):\n",
    "    \n",
    "    \"\"\" Esta función accede a la API y extrae información sobre los países asignados. \n",
    "        Args: una lista de paises (se facilita en el constructor de la clase)\n",
    "        Return: Un dataframe que concatena la información de todos los paises asignados \"\"\"\n",
    "    \n",
    "    df_unified = pd.DataFrame()\n",
    "    \n",
    "    for c in country_list:\n",
    "\n",
    "        url = f'http://universities.hipolabs.com/search?country={c}'\n",
    "\n",
    "        response = requests.get(url)\n",
    "        status_code = response.status_code\n",
    "        status_reason = response.reason\n",
    "        if  status_code == 200:\n",
    "            print('The request was succeful. Status code:', status_code,'. Reason:',status_reason)\n",
    "        elif  status_code == 402:\n",
    "            print('Non-authorized user. Status code:',  status_code,'. Reason:',status_reason)\n",
    "        elif  status_code == 404:\n",
    "            print('Information not found. Status code:',  status_code,'. Reason:',status_reason)\n",
    "        else:\n",
    "            print('Unexpected error. Status code:',  status_code,'. Reason:',status_reason)\n",
    "\n",
    "        df = pd.DataFrame.from_dict(pd.json_normalize(response.json()))\n",
    "        \n",
    "        df_unified = pd.concat([df_unified, df], axis = 0)\n",
    "        \n",
    "    return df_unified\n",
    "    \n",
    "\n",
    "\n",
    "\n",
    "\n",
    "\n",
    "\n"
   ]
  },
  {
   "attachments": {},
   "cell_type": "markdown",
   "metadata": {},
   "source": [
    "### Llamamos la función ###"
   ]
  },
  {
   "cell_type": "code",
   "execution_count": 39,
   "metadata": {},
   "outputs": [
    {
     "name": "stdout",
     "output_type": "stream",
     "text": [
      "The request was succeful. Status code: 200 . Reason: OK\n",
      "The request was succeful. Status code: 200 . Reason: OK\n",
      "The request was succeful. Status code: 200 . Reason: OK\n"
     ]
    }
   ],
   "source": [
    "df_unified = API_call(country_list)"
   ]
  },
  {
   "attachments": {},
   "cell_type": "markdown",
   "metadata": {},
   "source": [
    "### Creamos la función de limpieza ###\n"
   ]
  },
  {
   "cell_type": "code",
   "execution_count": 40,
   "metadata": {},
   "outputs": [],
   "source": [
    "def clean(df_unified):\n",
    "    \n",
    "    \"\"\" Esta función limpia el dataframe, cambia el formato de algunas columnas, elimina columnas duplicadas y innecesarias y cambia nulos por strings\n",
    "        Args: dataframe\n",
    "        Return: El dataframe limpio y transformado\"\"\"\n",
    "    \n",
    "    dict_provinces = {\"NV\":\"Nevada\", \"TX\":\"Texas\", \"IN\": \"Indianapolis\", \"CA\":\"California\", \"VA\": \"Virgina\", \n",
    "                  \"New York, NY\": \"New York\", \"MI\":\"Michigan\", \"GA\": \"Georgia\", \"ND\":\"North Dakota\", \"Ciudad Autónoma de Buenos Aires\": \"Buenos Aires\"}\n",
    "    \n",
    "    new_columns = {col: col.replace(\"-\", \"_\") for col in df_unified.columns}\n",
    "    df_unified.rename(columns = new_columns, inplace = True)\n",
    "   \n",
    "    df_unified.drop(['domains'], axis=1, inplace=True)\n",
    "    \n",
    "    df_unified = df_unified.explode('web_pages')\n",
    "    \n",
    "    df_unified = df_unified.drop_duplicates(subset= 'name')\n",
    "    \n",
    "    df_unified['state_province'] = df_unified['state_province'].fillna(value=pd.np.nan)\n",
    "    \n",
    "    df_unified['state_province'].replace(dict_provinces, inplace= True)\n",
    "    \n",
    "    df_unified['state_province'].fillna(value= 'unknown', inplace= True)\n",
    "    \n",
    "    return df_unified\n",
    "    \n",
    "    \n",
    "    \n",
    "    "
   ]
  },
  {
   "attachments": {},
   "cell_type": "markdown",
   "metadata": {},
   "source": [
    "### Llamamos la función ###"
   ]
  },
  {
   "cell_type": "code",
   "execution_count": 41,
   "metadata": {},
   "outputs": [
    {
     "name": "stderr",
     "output_type": "stream",
     "text": [
      "/var/folders/qs/lczv8kqx5w59ygqwfs1w0vlr0000gn/T/ipykernel_4110/3897419100.py:19: FutureWarning: The pandas.np module is deprecated and will be removed from pandas in a future version. Import numpy directly instead.\n",
      "  df_unified['state_province'] = df_unified['state_province'].fillna(value=pd.np.nan)\n"
     ]
    }
   ],
   "source": [
    "df_unified = clean(df_unified)"
   ]
  },
  {
   "cell_type": "code",
   "execution_count": 42,
   "metadata": {},
   "outputs": [
    {
     "data": {
      "text/html": [
       "<div>\n",
       "<style scoped>\n",
       "    .dataframe tbody tr th:only-of-type {\n",
       "        vertical-align: middle;\n",
       "    }\n",
       "\n",
       "    .dataframe tbody tr th {\n",
       "        vertical-align: top;\n",
       "    }\n",
       "\n",
       "    .dataframe thead th {\n",
       "        text-align: right;\n",
       "    }\n",
       "</style>\n",
       "<table border=\"1\" class=\"dataframe\">\n",
       "  <thead>\n",
       "    <tr style=\"text-align: right;\">\n",
       "      <th></th>\n",
       "      <th>state_province</th>\n",
       "      <th>name</th>\n",
       "      <th>country</th>\n",
       "      <th>web_pages</th>\n",
       "      <th>alpha_two_code</th>\n",
       "    </tr>\n",
       "  </thead>\n",
       "  <tbody>\n",
       "    <tr>\n",
       "      <th>0</th>\n",
       "      <td>Buenos Aires</td>\n",
       "      <td>Universidad Atlantida Argentina</td>\n",
       "      <td>Argentina</td>\n",
       "      <td>http://www.atlantida.edu.ar/</td>\n",
       "      <td>AR</td>\n",
       "    </tr>\n",
       "    <tr>\n",
       "      <th>1</th>\n",
       "      <td>Buenos Aires</td>\n",
       "      <td>Universidad Austral Buenos Aires</td>\n",
       "      <td>Argentina</td>\n",
       "      <td>http://www.austral.edu.ar/</td>\n",
       "      <td>AR</td>\n",
       "    </tr>\n",
       "    <tr>\n",
       "      <th>2</th>\n",
       "      <td>Buenos Aires</td>\n",
       "      <td>Universidad CAECE, Buenos Aires</td>\n",
       "      <td>Argentina</td>\n",
       "      <td>http://www.caece.edu.ar/</td>\n",
       "      <td>AR</td>\n",
       "    </tr>\n",
       "    <tr>\n",
       "      <th>3</th>\n",
       "      <td>Buenos Aires</td>\n",
       "      <td>Instituto Universitario CEMA</td>\n",
       "      <td>Argentina</td>\n",
       "      <td>http://www.cema.edu.ar/</td>\n",
       "      <td>AR</td>\n",
       "    </tr>\n",
       "    <tr>\n",
       "      <th>4</th>\n",
       "      <td>Buenos Aires</td>\n",
       "      <td>Instituto de Enseñanza Superior del Ejército</td>\n",
       "      <td>Argentina</td>\n",
       "      <td>http://www.iese.edu.ar/</td>\n",
       "      <td>AR</td>\n",
       "    </tr>\n",
       "    <tr>\n",
       "      <th>...</th>\n",
       "      <td>...</td>\n",
       "      <td>...</td>\n",
       "      <td>...</td>\n",
       "      <td>...</td>\n",
       "      <td>...</td>\n",
       "    </tr>\n",
       "    <tr>\n",
       "      <th>2276</th>\n",
       "      <td>unknown</td>\n",
       "      <td>Virginia University of Lynchburg</td>\n",
       "      <td>United States</td>\n",
       "      <td>https://www.vul.edu/</td>\n",
       "      <td>US</td>\n",
       "    </tr>\n",
       "    <tr>\n",
       "      <th>2277</th>\n",
       "      <td>unknown</td>\n",
       "      <td>Voorhees University</td>\n",
       "      <td>United States</td>\n",
       "      <td>https://www.voorhees.edu/</td>\n",
       "      <td>US</td>\n",
       "    </tr>\n",
       "    <tr>\n",
       "      <th>2278</th>\n",
       "      <td>unknown</td>\n",
       "      <td>West Virginia State University</td>\n",
       "      <td>United States</td>\n",
       "      <td>https://www.wvstateu.edu/</td>\n",
       "      <td>US</td>\n",
       "    </tr>\n",
       "    <tr>\n",
       "      <th>2279</th>\n",
       "      <td>unknown</td>\n",
       "      <td>Wiley College</td>\n",
       "      <td>United States</td>\n",
       "      <td>https://www.wileyc.edu/</td>\n",
       "      <td>US</td>\n",
       "    </tr>\n",
       "    <tr>\n",
       "      <th>2280</th>\n",
       "      <td>unknown</td>\n",
       "      <td>Winston-Salem State University</td>\n",
       "      <td>United States</td>\n",
       "      <td>https://www.wssu.edu/</td>\n",
       "      <td>US</td>\n",
       "    </tr>\n",
       "  </tbody>\n",
       "</table>\n",
       "<p>2507 rows × 5 columns</p>\n",
       "</div>"
      ],
      "text/plain": [
       "     state_province                                          name  \\\n",
       "0      Buenos Aires               Universidad Atlantida Argentina   \n",
       "1      Buenos Aires              Universidad Austral Buenos Aires   \n",
       "2      Buenos Aires               Universidad CAECE, Buenos Aires   \n",
       "3      Buenos Aires                  Instituto Universitario CEMA   \n",
       "4      Buenos Aires  Instituto de Enseñanza Superior del Ejército   \n",
       "...             ...                                           ...   \n",
       "2276        unknown              Virginia University of Lynchburg   \n",
       "2277        unknown                           Voorhees University   \n",
       "2278        unknown                West Virginia State University   \n",
       "2279        unknown                                 Wiley College   \n",
       "2280        unknown                Winston-Salem State University   \n",
       "\n",
       "            country                     web_pages alpha_two_code  \n",
       "0         Argentina  http://www.atlantida.edu.ar/             AR  \n",
       "1         Argentina    http://www.austral.edu.ar/             AR  \n",
       "2         Argentina      http://www.caece.edu.ar/             AR  \n",
       "3         Argentina       http://www.cema.edu.ar/             AR  \n",
       "4         Argentina       http://www.iese.edu.ar/             AR  \n",
       "...             ...                           ...            ...  \n",
       "2276  United States          https://www.vul.edu/             US  \n",
       "2277  United States     https://www.voorhees.edu/             US  \n",
       "2278  United States     https://www.wvstateu.edu/             US  \n",
       "2279  United States       https://www.wileyc.edu/             US  \n",
       "2280  United States         https://www.wssu.edu/             US  \n",
       "\n",
       "[2507 rows x 5 columns]"
      ]
     },
     "execution_count": 42,
     "metadata": {},
     "output_type": "execute_result"
    }
   ],
   "source": [
    "df_unified "
   ]
  },
  {
   "attachments": {},
   "cell_type": "markdown",
   "metadata": {},
   "source": [
    "   \n",
    "7. Ahora nuestros jefes nos piden que saquemos las coordenadas de las provincias donde están ubicadas las universidades. Para eso nos piden que usemos la librería de geopy que aprendimos el día del repaso,  la documentación. Para desarrollar este ejercicio deberéis:\n",
    "Sacar los valores únicos de la columna state_province.\n",
    "\n",
    "Algunos de los valores que tenemos están con siglas, y deberéis reemplazarlos por lo siguiente:\n",
    "\n",
    "NV: reemplazalo por Nevada\n",
    "TX: reemplazalo por Texas\n",
    "IN: reemplazalo por Indianapolis\n",
    "CA: reemplazalo por California\n",
    "VA: reemplazalo por Virginia\n",
    "NY: reemplazalo por New York\n",
    "MI: reemplazalo por Michigan\n",
    "GA: reemplazalo por Georgia\n",
    "ND: reemplazalo por North Dakota\n",
    "\n",
    "Otros valores que tenemos más formateados son y que deberemos reemplazar:\n",
    "New York, NY. Deberéis reemplazarlo por \"New York\".\n",
    "\n",
    "'Buenos Aires', 'Ciudad Autónoma de Buenos Aires'. En este caso deberéis poner en ambos casos \"Buenos Aires\"\n",
    "\n",
    "Una vez realizados los pasos anteriores, crea una lista con los valores únicos de las provincias de las universidades.\n",
    "\n",
    "Usando la API de geopy, extraed la latitud y la longitud de cada una de las provincias y almacenad los resultados en un dataframe.\n",
    "Una vez que tengáis los datos del ejercicio anterior en un dataframe, unidlo con el de las universidades que hemos sacado de la API.\n"
   ]
  },
  {
   "attachments": {},
   "cell_type": "markdown",
   "metadata": {},
   "source": [
    "### Creamos la función de coordenadas ###"
   ]
  },
  {
   "cell_type": "code",
   "execution_count": 45,
   "metadata": {},
   "outputs": [],
   "source": [
    "def coords(df_unified):\n",
    "    \"\"\"Esta función permite obtener las coordenadas de latitud y longitud de la localización asignada y mergea el resulatado a un dataframe asignado.\n",
    "    Args: un parámetro, que es el dataframe.\n",
    "    Return: el dataframe total unido\"\"\"\n",
    "    \n",
    "    provinces = df_unified['state_province'].unique()\n",
    "    list_lat= []\n",
    "    list_lon = []\n",
    "\n",
    "    for prov in provinces:\n",
    "\n",
    "        geolocator = Nominatim(user_agent=\"Laura\")\n",
    "        loc = geolocator.geocode(prov)\n",
    "        list_lat.append(loc.latitude)\n",
    "        list_lon.append(loc.longitude)\n",
    "        \n",
    "\n",
    "    dict_coords = {\"state_province\": provinces, \"latitud\": list_lat, \"longitud\": list_lon}\n",
    "    df_coords = pd.DataFrame(dict_coords)\n",
    "    df_total =  df_unified.merge(df_coords, on = \"state_province\")\n",
    "   \n",
    "    \n",
    "    return df_total"
   ]
  },
  {
   "cell_type": "code",
   "execution_count": 47,
   "metadata": {},
   "outputs": [
    {
     "data": {
      "text/html": [
       "<div>\n",
       "<style scoped>\n",
       "    .dataframe tbody tr th:only-of-type {\n",
       "        vertical-align: middle;\n",
       "    }\n",
       "\n",
       "    .dataframe tbody tr th {\n",
       "        vertical-align: top;\n",
       "    }\n",
       "\n",
       "    .dataframe thead th {\n",
       "        text-align: right;\n",
       "    }\n",
       "</style>\n",
       "<table border=\"1\" class=\"dataframe\">\n",
       "  <thead>\n",
       "    <tr style=\"text-align: right;\">\n",
       "      <th></th>\n",
       "      <th>state_province</th>\n",
       "      <th>name</th>\n",
       "      <th>country</th>\n",
       "      <th>web_pages</th>\n",
       "      <th>alpha_two_code</th>\n",
       "      <th>latitud</th>\n",
       "      <th>longitud</th>\n",
       "    </tr>\n",
       "  </thead>\n",
       "  <tbody>\n",
       "    <tr>\n",
       "      <th>0</th>\n",
       "      <td>Buenos Aires</td>\n",
       "      <td>Universidad Atlantida Argentina</td>\n",
       "      <td>Argentina</td>\n",
       "      <td>http://www.atlantida.edu.ar/</td>\n",
       "      <td>AR</td>\n",
       "      <td>-34.607568</td>\n",
       "      <td>-58.437089</td>\n",
       "    </tr>\n",
       "    <tr>\n",
       "      <th>1</th>\n",
       "      <td>Buenos Aires</td>\n",
       "      <td>Universidad Austral Buenos Aires</td>\n",
       "      <td>Argentina</td>\n",
       "      <td>http://www.austral.edu.ar/</td>\n",
       "      <td>AR</td>\n",
       "      <td>-34.607568</td>\n",
       "      <td>-58.437089</td>\n",
       "    </tr>\n",
       "    <tr>\n",
       "      <th>2</th>\n",
       "      <td>Buenos Aires</td>\n",
       "      <td>Universidad CAECE, Buenos Aires</td>\n",
       "      <td>Argentina</td>\n",
       "      <td>http://www.caece.edu.ar/</td>\n",
       "      <td>AR</td>\n",
       "      <td>-34.607568</td>\n",
       "      <td>-58.437089</td>\n",
       "    </tr>\n",
       "    <tr>\n",
       "      <th>3</th>\n",
       "      <td>Buenos Aires</td>\n",
       "      <td>Instituto Universitario CEMA</td>\n",
       "      <td>Argentina</td>\n",
       "      <td>http://www.cema.edu.ar/</td>\n",
       "      <td>AR</td>\n",
       "      <td>-34.607568</td>\n",
       "      <td>-58.437089</td>\n",
       "    </tr>\n",
       "    <tr>\n",
       "      <th>4</th>\n",
       "      <td>Buenos Aires</td>\n",
       "      <td>Instituto de Enseñanza Superior del Ejército</td>\n",
       "      <td>Argentina</td>\n",
       "      <td>http://www.iese.edu.ar/</td>\n",
       "      <td>AR</td>\n",
       "      <td>-34.607568</td>\n",
       "      <td>-58.437089</td>\n",
       "    </tr>\n",
       "    <tr>\n",
       "      <th>...</th>\n",
       "      <td>...</td>\n",
       "      <td>...</td>\n",
       "      <td>...</td>\n",
       "      <td>...</td>\n",
       "      <td>...</td>\n",
       "      <td>...</td>\n",
       "      <td>...</td>\n",
       "    </tr>\n",
       "    <tr>\n",
       "      <th>2502</th>\n",
       "      <td>Georgia</td>\n",
       "      <td>Morehouse</td>\n",
       "      <td>United States</td>\n",
       "      <td>https://morehouse.edu/</td>\n",
       "      <td>US</td>\n",
       "      <td>32.329381</td>\n",
       "      <td>-83.113737</td>\n",
       "    </tr>\n",
       "    <tr>\n",
       "      <th>2503</th>\n",
       "      <td>New York</td>\n",
       "      <td>CUNY Lehman College</td>\n",
       "      <td>United States</td>\n",
       "      <td>https://www.lehman.cuny.edu/</td>\n",
       "      <td>US</td>\n",
       "      <td>40.712728</td>\n",
       "      <td>-74.006015</td>\n",
       "    </tr>\n",
       "    <tr>\n",
       "      <th>2504</th>\n",
       "      <td>New York</td>\n",
       "      <td>CUNY John Jay College of Criminal Justice</td>\n",
       "      <td>United States</td>\n",
       "      <td>https://www.jjay.cuny.edu/</td>\n",
       "      <td>US</td>\n",
       "      <td>40.712728</td>\n",
       "      <td>-74.006015</td>\n",
       "    </tr>\n",
       "    <tr>\n",
       "      <th>2505</th>\n",
       "      <td>New York</td>\n",
       "      <td>CUNY Hunter College</td>\n",
       "      <td>United States</td>\n",
       "      <td>https://hunter.cuny.edu/</td>\n",
       "      <td>US</td>\n",
       "      <td>40.712728</td>\n",
       "      <td>-74.006015</td>\n",
       "    </tr>\n",
       "    <tr>\n",
       "      <th>2506</th>\n",
       "      <td>New York</td>\n",
       "      <td>CUNY York College</td>\n",
       "      <td>United States</td>\n",
       "      <td>https://www.york.cuny.edu/</td>\n",
       "      <td>US</td>\n",
       "      <td>40.712728</td>\n",
       "      <td>-74.006015</td>\n",
       "    </tr>\n",
       "  </tbody>\n",
       "</table>\n",
       "<p>2507 rows × 7 columns</p>\n",
       "</div>"
      ],
      "text/plain": [
       "     state_province                                          name  \\\n",
       "0      Buenos Aires               Universidad Atlantida Argentina   \n",
       "1      Buenos Aires              Universidad Austral Buenos Aires   \n",
       "2      Buenos Aires               Universidad CAECE, Buenos Aires   \n",
       "3      Buenos Aires                  Instituto Universitario CEMA   \n",
       "4      Buenos Aires  Instituto de Enseñanza Superior del Ejército   \n",
       "...             ...                                           ...   \n",
       "2502        Georgia                                     Morehouse   \n",
       "2503       New York                           CUNY Lehman College   \n",
       "2504       New York     CUNY John Jay College of Criminal Justice   \n",
       "2505       New York                           CUNY Hunter College   \n",
       "2506       New York                             CUNY York College   \n",
       "\n",
       "            country                     web_pages alpha_two_code    latitud  \\\n",
       "0         Argentina  http://www.atlantida.edu.ar/             AR -34.607568   \n",
       "1         Argentina    http://www.austral.edu.ar/             AR -34.607568   \n",
       "2         Argentina      http://www.caece.edu.ar/             AR -34.607568   \n",
       "3         Argentina       http://www.cema.edu.ar/             AR -34.607568   \n",
       "4         Argentina       http://www.iese.edu.ar/             AR -34.607568   \n",
       "...             ...                           ...            ...        ...   \n",
       "2502  United States        https://morehouse.edu/             US  32.329381   \n",
       "2503  United States  https://www.lehman.cuny.edu/             US  40.712728   \n",
       "2504  United States    https://www.jjay.cuny.edu/             US  40.712728   \n",
       "2505  United States      https://hunter.cuny.edu/             US  40.712728   \n",
       "2506  United States    https://www.york.cuny.edu/             US  40.712728   \n",
       "\n",
       "       longitud  \n",
       "0    -58.437089  \n",
       "1    -58.437089  \n",
       "2    -58.437089  \n",
       "3    -58.437089  \n",
       "4    -58.437089  \n",
       "...         ...  \n",
       "2502 -83.113737  \n",
       "2503 -74.006015  \n",
       "2504 -74.006015  \n",
       "2505 -74.006015  \n",
       "2506 -74.006015  \n",
       "\n",
       "[2507 rows x 7 columns]"
      ]
     },
     "execution_count": 47,
     "metadata": {},
     "output_type": "execute_result"
    }
   ],
   "source": [
    "coords(df_unified)"
   ]
  },
  {
   "cell_type": "code",
   "execution_count": 54,
   "metadata": {},
   "outputs": [],
   "source": [
    "df_unified.to_csv(\"../DA-promoD-Mod2-sprint2-LauraMadrid/df_unified.csv\")"
   ]
  },
  {
   "attachments": {},
   "cell_type": "markdown",
   "metadata": {},
   "source": [
    "\n",
    "8. Crea una BBDD en mysql que contenga las siguientes tablas:\n",
    "   \n",
    "- Tabla países: donde encontraremos las siguientes columnas:\n",
    "  \n",
    "  - idestado: primary key, integer, autoincremental\n",
    "  - nombre_pais: varchar\n",
    "  - nombre_provincia: varchar\n",
    "  - latitud: decimal\n",
    "  - longitud: decimal\n",
    "  -----------------\n",
    "\n",
    "- Tabla universidades: donde encontraremos las siguientes columnas:\n",
    "  \n",
    "  - iduniversidades: primary key, integer, autoincremental\n",
    "  - nombre_universidad: varchar\n",
    "  - pagina_web: varchar\n",
    "  - paises_idestado: foreing key"
   ]
  },
  {
   "attachments": {},
   "cell_type": "markdown",
   "metadata": {},
   "source": [
    "### Conexión con el servidor de SQL y Creación BBDD"
   ]
  },
  {
   "cell_type": "code",
   "execution_count": 1,
   "metadata": {},
   "outputs": [],
   "source": [
    "\n",
    "def create_bbdd(nombre_bbdd):\n",
    "    \n",
    "    \"\"\"Esta función crea la base de datos para la posterior creación de tablas en la misma. \n",
    "    Args: nombre de la base de datos\"\"\"\n",
    "\n",
    "    mydb = mysql.connector.connect(\n",
    "      host=\"localhost\",\n",
    "      user=\"root\",\n",
    "      password=\"AlumnaAdalab\" \n",
    "    )\n",
    "    print(\"Conexión realizada con éxito\")\n",
    "    \n",
    "    mycursor = mydb.cursor()\n",
    "\n",
    "    try:\n",
    "        mycursor.execute(f\"CREATE DATABASE IF NOT EXISTS {nombre_bbdd};\")\n",
    "        print(mycursor)\n",
    "    except mysql.connector.Error as err:\n",
    "        print(err)\n",
    "        print(\"Error Code:\", err.errno)\n",
    "        print(\"SQLSTATE\", err.sqlstate)\n",
    "        print(\"Message\", err.msg)\n",
    "            "
   ]
  },
  {
   "cell_type": "code",
   "execution_count": 127,
   "metadata": {},
   "outputs": [
    {
     "name": "stdout",
     "output_type": "stream",
     "text": [
      "Conexión realizada con éxito\n",
      "CMySQLCursor: CREATE DATABASE IF NOT EXISTS universida..\n"
     ]
    }
   ],
   "source": [
    "mydb = create_bbdd(\"universidades\")"
   ]
  },
  {
   "attachments": {},
   "cell_type": "markdown",
   "metadata": {},
   "source": [
    "### Creación de tablas"
   ]
  },
  {
   "cell_type": "code",
   "execution_count": 3,
   "metadata": {},
   "outputs": [],
   "source": [
    "def create_insert_table(nombre_bbdd, contraseña, query):\n",
    "        \n",
    "    \"\"\"Esta función crea las tablas a seren insertadas en la base de datos.\n",
    "    Args: nombre de la base de datos, contraseña y la query de creación.\"\"\"\n",
    "    cnx = mysql.connector.connect(user='root', password=f\"{contraseña}\",\n",
    "                                     host='127.0.0.1', database=f\"{nombre_bbdd}\")\n",
    "    \n",
    "    mycursor = cnx.cursor()\n",
    "    \n",
    "  \n",
    "    try: \n",
    "        mycursor.execute(query)\n",
    "        cnx.commit() \n",
    "   \n",
    "    except mysql.connector.Error as err:\n",
    "        print(err)\n",
    "        print(\"Error Code:\", err.errno)\n",
    "        print(\"SQLSTATE\", err.sqlstate)\n",
    "        print(\"Message\", err.msg)\n",
    "        "
   ]
  },
  {
   "cell_type": "code",
   "execution_count": 135,
   "metadata": {},
   "outputs": [],
   "source": [
    "Tabla_países = '''\n",
    "CREATE TABLE IF NOT EXISTS `universidades`.`Tabla_países` (\n",
    "  `idestado` INT NOT NULL AUTO_INCREMENT, \n",
    "  `nombre_pais` VARCHAR(45) NULL,\n",
    "  `nombre_provincia` VARCHAR(45) NULL,\n",
    "  `latitud` DECIMAL NULL,\n",
    "  `longitud` DECIMAL NULL,\n",
    "  PRIMARY KEY (`idestado`))\n",
    "ENGINE = InnoDB;'''\n",
    "\n",
    "\n",
    "Tabla_universidades = '''\n",
    "CREATE TABLE IF NOT EXISTS `universidades`.`Tabla_universidades` (\n",
    "  `iduniversidades` INT NOT NULL AUTO_INCREMENT,\n",
    "  `nombre_universidad` VARCHAR(100) NULL,\n",
    "  `pagina_web` VARCHAR(100) NULL,\n",
    "  `paises_idestado` VARCHAR(45) NULL,\n",
    "  `Tabla_países_idestado` INT NOT NULL,\n",
    "  PRIMARY KEY (`iduniversidades`),\n",
    "  INDEX `fk_Tabla_universidades_Tabla_países_idx` (`Tabla_países_idestado` ASC) VISIBLE,\n",
    "  CONSTRAINT `fk_Tabla_universidades_Tabla_países`\n",
    "    FOREIGN KEY (`Tabla_países_idestado`)\n",
    "    REFERENCES `universidades`.`Tabla_países` (`idestado`)\n",
    "    ON DELETE CASCADE\n",
    "    ON UPDATE CASCADE)\n",
    "ENGINE = InnoDB;'''\n",
    "\n",
    "\n"
   ]
  },
  {
   "cell_type": "code",
   "execution_count": 130,
   "metadata": {},
   "outputs": [],
   "source": [
    "create_insert_table(\"universidades\", 'AlumnaAdalab',Tabla_países)"
   ]
  },
  {
   "cell_type": "code",
   "execution_count": 136,
   "metadata": {},
   "outputs": [],
   "source": [
    "create_insert_table(\"universidades\", 'AlumnaAdalab',Tabla_universidades)"
   ]
  },
  {
   "attachments": {},
   "cell_type": "markdown",
   "metadata": {},
   "source": [
    "10. BONUS\n",
    "\n",
    "- Introduce los datos en la BBDD de SQL.\n",
    "- Crea una clase con todo el código generado en esta evaluación.\n"
   ]
  }
 ],
 "metadata": {
  "kernelspec": {
   "display_name": "Python 3",
   "language": "python",
   "name": "python3"
  },
  "language_info": {
   "codemirror_mode": {
    "name": "ipython",
    "version": 3
   },
   "file_extension": ".py",
   "mimetype": "text/x-python",
   "name": "python",
   "nbconvert_exporter": "python",
   "pygments_lexer": "ipython3",
   "version": "3.11.0"
  },
  "orig_nbformat": 4
 },
 "nbformat": 4,
 "nbformat_minor": 2
}
